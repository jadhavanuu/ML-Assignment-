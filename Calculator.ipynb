{
 "cells": [
  {
   "cell_type": "code",
   "execution_count": 6,
   "id": "b73bd690-467f-4c5c-a7d4-5266f7d9536e",
   "metadata": {},
   "outputs": [
    {
     "name": "stdin",
     "output_type": "stream",
     "text": [
      "Enter first number:  2\n",
      "Enter second number:  0\n",
      "Enter operator (+, -, *, /):  /\n"
     ]
    },
    {
     "name": "stdout",
     "output_type": "stream",
     "text": [
      "Error: Cannot divide by zero!\n"
     ]
    }
   ],
   "source": [
    "\n",
    "a= float(input(\"Enter first number: \"))\n",
    "\n",
    "b= float(input(\"Enter second number: \"))\n",
    "\n",
    "operator = input(\"Enter operator (+, -, *, /): \")\n",
    "\n",
    "# Using if-else to perform operations\n",
    "if operator == '+':\n",
    "    result = a + b\n",
    "    print(\"Result:\", result)\n",
    "\n",
    "   \n",
    "elif operator == '-':\n",
    "    result = a - b\n",
    "    print(\"Result:\", result)\n",
    "\n",
    "\n",
    "elif operator == '*':\n",
    "    result = a * b\n",
    "    print(\"Result:\", result)\n",
    "\n",
    "   \n",
    "elif operator == '/':\n",
    "    if b != 0:\n",
    "        result = a / b\n",
    "        print(\"Result:\", result)\n",
    "    else:\n",
    "        print(\"Error: Cannot divide by zero!\")\n",
    "\n",
    "else:\n",
    "    print(\"Invalid operator! Please use +, -, *, or /\")\n"
   ]
  },
  {
   "cell_type": "code",
   "execution_count": null,
   "id": "fd6f095e-ac96-4217-b8ac-cd4106a0f2f8",
   "metadata": {},
   "outputs": [],
   "source": []
  }
 ],
 "metadata": {
  "kernelspec": {
   "display_name": "Python 3 (ipykernel)",
   "language": "python",
   "name": "python3"
  },
  "language_info": {
   "codemirror_mode": {
    "name": "ipython",
    "version": 3
   },
   "file_extension": ".py",
   "mimetype": "text/x-python",
   "name": "python",
   "nbconvert_exporter": "python",
   "pygments_lexer": "ipython3",
   "version": "3.13.5"
  }
 },
 "nbformat": 4,
 "nbformat_minor": 5
}

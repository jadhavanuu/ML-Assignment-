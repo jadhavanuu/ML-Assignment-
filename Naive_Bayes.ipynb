{
 "cells": [
  {
   "cell_type": "code",
   "execution_count": 1,
   "id": "85948e20-0879-4c91-8bdc-0dafde6a6ef3",
   "metadata": {},
   "outputs": [],
   "source": [
    "import pandas as pd\n",
    "data = pd.read_csv('C:/Users/Anita Jadhav/Desktop/jupyter programs/loan_data.csv')"
   ]
  },
  {
   "cell_type": "code",
   "execution_count": 2,
   "id": "4c62933b-eac6-4703-b7b3-413bab84e1a3",
   "metadata": {},
   "outputs": [
    {
     "data": {
      "text/html": [
       "<div>\n",
       "<style scoped>\n",
       "    .dataframe tbody tr th:only-of-type {\n",
       "        vertical-align: middle;\n",
       "    }\n",
       "\n",
       "    .dataframe tbody tr th {\n",
       "        vertical-align: top;\n",
       "    }\n",
       "\n",
       "    .dataframe thead th {\n",
       "        text-align: right;\n",
       "    }\n",
       "</style>\n",
       "<table border=\"1\" class=\"dataframe\">\n",
       "  <thead>\n",
       "    <tr style=\"text-align: right;\">\n",
       "      <th></th>\n",
       "      <th>index</th>\n",
       "      <th>credit.policy</th>\n",
       "      <th>purpose</th>\n",
       "      <th>int.rate</th>\n",
       "      <th>installment</th>\n",
       "      <th>log.annual.inc</th>\n",
       "      <th>dti</th>\n",
       "      <th>fico</th>\n",
       "      <th>days.with.cr.line</th>\n",
       "      <th>revol.bal</th>\n",
       "      <th>revol.util</th>\n",
       "      <th>inq.last.6mths</th>\n",
       "      <th>delinq.2yrs</th>\n",
       "      <th>pub.rec</th>\n",
       "      <th>not.fully.paid</th>\n",
       "    </tr>\n",
       "  </thead>\n",
       "  <tbody>\n",
       "    <tr>\n",
       "      <th>0</th>\n",
       "      <td>0</td>\n",
       "      <td>1</td>\n",
       "      <td>debt_consolidation</td>\n",
       "      <td>0.1189</td>\n",
       "      <td>829.10</td>\n",
       "      <td>11.350407</td>\n",
       "      <td>19.48</td>\n",
       "      <td>737</td>\n",
       "      <td>5639.958333</td>\n",
       "      <td>28854</td>\n",
       "      <td>52.1</td>\n",
       "      <td>0</td>\n",
       "      <td>0</td>\n",
       "      <td>0</td>\n",
       "      <td>0</td>\n",
       "    </tr>\n",
       "    <tr>\n",
       "      <th>1</th>\n",
       "      <td>1</td>\n",
       "      <td>1</td>\n",
       "      <td>credit_card</td>\n",
       "      <td>0.1071</td>\n",
       "      <td>228.22</td>\n",
       "      <td>11.082143</td>\n",
       "      <td>14.29</td>\n",
       "      <td>707</td>\n",
       "      <td>2760.000000</td>\n",
       "      <td>33623</td>\n",
       "      <td>76.7</td>\n",
       "      <td>0</td>\n",
       "      <td>0</td>\n",
       "      <td>0</td>\n",
       "      <td>0</td>\n",
       "    </tr>\n",
       "    <tr>\n",
       "      <th>2</th>\n",
       "      <td>2</td>\n",
       "      <td>1</td>\n",
       "      <td>debt_consolidation</td>\n",
       "      <td>0.1357</td>\n",
       "      <td>366.86</td>\n",
       "      <td>10.373491</td>\n",
       "      <td>11.63</td>\n",
       "      <td>682</td>\n",
       "      <td>4710.000000</td>\n",
       "      <td>3511</td>\n",
       "      <td>25.6</td>\n",
       "      <td>1</td>\n",
       "      <td>0</td>\n",
       "      <td>0</td>\n",
       "      <td>0</td>\n",
       "    </tr>\n",
       "    <tr>\n",
       "      <th>3</th>\n",
       "      <td>3</td>\n",
       "      <td>1</td>\n",
       "      <td>debt_consolidation</td>\n",
       "      <td>0.1008</td>\n",
       "      <td>162.34</td>\n",
       "      <td>11.350407</td>\n",
       "      <td>8.10</td>\n",
       "      <td>712</td>\n",
       "      <td>2699.958333</td>\n",
       "      <td>33667</td>\n",
       "      <td>73.2</td>\n",
       "      <td>1</td>\n",
       "      <td>0</td>\n",
       "      <td>0</td>\n",
       "      <td>0</td>\n",
       "    </tr>\n",
       "    <tr>\n",
       "      <th>4</th>\n",
       "      <td>4</td>\n",
       "      <td>1</td>\n",
       "      <td>credit_card</td>\n",
       "      <td>0.1426</td>\n",
       "      <td>102.92</td>\n",
       "      <td>11.299732</td>\n",
       "      <td>14.97</td>\n",
       "      <td>667</td>\n",
       "      <td>4066.000000</td>\n",
       "      <td>4740</td>\n",
       "      <td>39.5</td>\n",
       "      <td>0</td>\n",
       "      <td>1</td>\n",
       "      <td>0</td>\n",
       "      <td>0</td>\n",
       "    </tr>\n",
       "  </tbody>\n",
       "</table>\n",
       "</div>"
      ],
      "text/plain": [
       "   index  credit.policy             purpose  int.rate  installment  \\\n",
       "0      0              1  debt_consolidation    0.1189       829.10   \n",
       "1      1              1         credit_card    0.1071       228.22   \n",
       "2      2              1  debt_consolidation    0.1357       366.86   \n",
       "3      3              1  debt_consolidation    0.1008       162.34   \n",
       "4      4              1         credit_card    0.1426       102.92   \n",
       "\n",
       "   log.annual.inc    dti  fico  days.with.cr.line  revol.bal  revol.util  \\\n",
       "0       11.350407  19.48   737        5639.958333      28854        52.1   \n",
       "1       11.082143  14.29   707        2760.000000      33623        76.7   \n",
       "2       10.373491  11.63   682        4710.000000       3511        25.6   \n",
       "3       11.350407   8.10   712        2699.958333      33667        73.2   \n",
       "4       11.299732  14.97   667        4066.000000       4740        39.5   \n",
       "\n",
       "   inq.last.6mths  delinq.2yrs  pub.rec  not.fully.paid  \n",
       "0               0            0        0               0  \n",
       "1               0            0        0               0  \n",
       "2               1            0        0               0  \n",
       "3               1            0        0               0  \n",
       "4               0            1        0               0  "
      ]
     },
     "execution_count": 2,
     "metadata": {},
     "output_type": "execute_result"
    }
   ],
   "source": [
    "data.head()"
   ]
  },
  {
   "cell_type": "code",
   "execution_count": 3,
   "id": "c0676198-d229-4918-b412-102dbf67fde2",
   "metadata": {},
   "outputs": [
    {
     "data": {
      "text/html": [
       "<div>\n",
       "<style scoped>\n",
       "    .dataframe tbody tr th:only-of-type {\n",
       "        vertical-align: middle;\n",
       "    }\n",
       "\n",
       "    .dataframe tbody tr th {\n",
       "        vertical-align: top;\n",
       "    }\n",
       "\n",
       "    .dataframe thead th {\n",
       "        text-align: right;\n",
       "    }\n",
       "</style>\n",
       "<table border=\"1\" class=\"dataframe\">\n",
       "  <thead>\n",
       "    <tr style=\"text-align: right;\">\n",
       "      <th></th>\n",
       "      <th>index</th>\n",
       "      <th>credit.policy</th>\n",
       "      <th>purpose</th>\n",
       "      <th>int.rate</th>\n",
       "      <th>installment</th>\n",
       "      <th>log.annual.inc</th>\n",
       "      <th>dti</th>\n",
       "      <th>fico</th>\n",
       "      <th>days.with.cr.line</th>\n",
       "      <th>revol.bal</th>\n",
       "      <th>revol.util</th>\n",
       "      <th>inq.last.6mths</th>\n",
       "      <th>delinq.2yrs</th>\n",
       "      <th>pub.rec</th>\n",
       "      <th>not.fully.paid</th>\n",
       "    </tr>\n",
       "  </thead>\n",
       "  <tbody>\n",
       "    <tr>\n",
       "      <th>95</th>\n",
       "      <td>95</td>\n",
       "      <td>1</td>\n",
       "      <td>debt_consolidation</td>\n",
       "      <td>0.0775</td>\n",
       "      <td>156.11</td>\n",
       "      <td>10.714418</td>\n",
       "      <td>5.00</td>\n",
       "      <td>762</td>\n",
       "      <td>2131.000000</td>\n",
       "      <td>1359</td>\n",
       "      <td>5.6</td>\n",
       "      <td>2</td>\n",
       "      <td>0</td>\n",
       "      <td>0</td>\n",
       "      <td>0</td>\n",
       "    </tr>\n",
       "    <tr>\n",
       "      <th>96</th>\n",
       "      <td>96</td>\n",
       "      <td>1</td>\n",
       "      <td>debt_consolidation</td>\n",
       "      <td>0.1154</td>\n",
       "      <td>329.95</td>\n",
       "      <td>12.323856</td>\n",
       "      <td>20.00</td>\n",
       "      <td>727</td>\n",
       "      <td>10292.000000</td>\n",
       "      <td>107501</td>\n",
       "      <td>44.8</td>\n",
       "      <td>2</td>\n",
       "      <td>0</td>\n",
       "      <td>0</td>\n",
       "      <td>0</td>\n",
       "    </tr>\n",
       "    <tr>\n",
       "      <th>97</th>\n",
       "      <td>97</td>\n",
       "      <td>1</td>\n",
       "      <td>all_other</td>\n",
       "      <td>0.0807</td>\n",
       "      <td>313.67</td>\n",
       "      <td>12.061047</td>\n",
       "      <td>0.72</td>\n",
       "      <td>787</td>\n",
       "      <td>8010.000000</td>\n",
       "      <td>3054</td>\n",
       "      <td>5.6</td>\n",
       "      <td>3</td>\n",
       "      <td>0</td>\n",
       "      <td>0</td>\n",
       "      <td>0</td>\n",
       "    </tr>\n",
       "    <tr>\n",
       "      <th>98</th>\n",
       "      <td>98</td>\n",
       "      <td>1</td>\n",
       "      <td>all_other</td>\n",
       "      <td>0.0807</td>\n",
       "      <td>297.99</td>\n",
       "      <td>11.407565</td>\n",
       "      <td>2.44</td>\n",
       "      <td>792</td>\n",
       "      <td>8717.958333</td>\n",
       "      <td>40384</td>\n",
       "      <td>9.6</td>\n",
       "      <td>0</td>\n",
       "      <td>0</td>\n",
       "      <td>0</td>\n",
       "      <td>0</td>\n",
       "    </tr>\n",
       "    <tr>\n",
       "      <th>99</th>\n",
       "      <td>99</td>\n",
       "      <td>1</td>\n",
       "      <td>home_improvement</td>\n",
       "      <td>0.0933</td>\n",
       "      <td>239.65</td>\n",
       "      <td>11.440355</td>\n",
       "      <td>9.66</td>\n",
       "      <td>792</td>\n",
       "      <td>4529.000000</td>\n",
       "      <td>128000</td>\n",
       "      <td>0.0</td>\n",
       "      <td>3</td>\n",
       "      <td>0</td>\n",
       "      <td>0</td>\n",
       "      <td>0</td>\n",
       "    </tr>\n",
       "  </tbody>\n",
       "</table>\n",
       "</div>"
      ],
      "text/plain": [
       "    index  credit.policy             purpose  int.rate  installment  \\\n",
       "95     95              1  debt_consolidation    0.0775       156.11   \n",
       "96     96              1  debt_consolidation    0.1154       329.95   \n",
       "97     97              1           all_other    0.0807       313.67   \n",
       "98     98              1           all_other    0.0807       297.99   \n",
       "99     99              1    home_improvement    0.0933       239.65   \n",
       "\n",
       "    log.annual.inc    dti  fico  days.with.cr.line  revol.bal  revol.util  \\\n",
       "95       10.714418   5.00   762        2131.000000       1359         5.6   \n",
       "96       12.323856  20.00   727       10292.000000     107501        44.8   \n",
       "97       12.061047   0.72   787        8010.000000       3054         5.6   \n",
       "98       11.407565   2.44   792        8717.958333      40384         9.6   \n",
       "99       11.440355   9.66   792        4529.000000     128000         0.0   \n",
       "\n",
       "    inq.last.6mths  delinq.2yrs  pub.rec  not.fully.paid  \n",
       "95               2            0        0               0  \n",
       "96               2            0        0               0  \n",
       "97               3            0        0               0  \n",
       "98               0            0        0               0  \n",
       "99               3            0        0               0  "
      ]
     },
     "execution_count": 3,
     "metadata": {},
     "output_type": "execute_result"
    }
   ],
   "source": [
    "data.tail()"
   ]
  },
  {
   "cell_type": "code",
   "execution_count": 4,
   "id": "da1b9b72-7228-468f-b37e-d325759beb0e",
   "metadata": {},
   "outputs": [
    {
     "data": {
      "text/plain": [
       "(100, 15)"
      ]
     },
     "execution_count": 4,
     "metadata": {},
     "output_type": "execute_result"
    }
   ],
   "source": [
    "data.shape"
   ]
  },
  {
   "cell_type": "code",
   "execution_count": 5,
   "id": "cdddd994-4e62-406c-bdfc-0c9bb6bbc1c5",
   "metadata": {},
   "outputs": [
    {
     "data": {
      "text/html": [
       "<div>\n",
       "<style scoped>\n",
       "    .dataframe tbody tr th:only-of-type {\n",
       "        vertical-align: middle;\n",
       "    }\n",
       "\n",
       "    .dataframe tbody tr th {\n",
       "        vertical-align: top;\n",
       "    }\n",
       "\n",
       "    .dataframe thead th {\n",
       "        text-align: right;\n",
       "    }\n",
       "</style>\n",
       "<table border=\"1\" class=\"dataframe\">\n",
       "  <thead>\n",
       "    <tr style=\"text-align: right;\">\n",
       "      <th></th>\n",
       "      <th>index</th>\n",
       "      <th>credit.policy</th>\n",
       "      <th>int.rate</th>\n",
       "      <th>installment</th>\n",
       "      <th>log.annual.inc</th>\n",
       "      <th>dti</th>\n",
       "      <th>fico</th>\n",
       "      <th>days.with.cr.line</th>\n",
       "      <th>revol.bal</th>\n",
       "      <th>revol.util</th>\n",
       "      <th>inq.last.6mths</th>\n",
       "      <th>delinq.2yrs</th>\n",
       "      <th>pub.rec</th>\n",
       "      <th>not.fully.paid</th>\n",
       "    </tr>\n",
       "  </thead>\n",
       "  <tbody>\n",
       "    <tr>\n",
       "      <th>count</th>\n",
       "      <td>100.000000</td>\n",
       "      <td>100.0</td>\n",
       "      <td>100.000000</td>\n",
       "      <td>100.000000</td>\n",
       "      <td>100.000000</td>\n",
       "      <td>100.000000</td>\n",
       "      <td>100.000000</td>\n",
       "      <td>100.000000</td>\n",
       "      <td>100.000000</td>\n",
       "      <td>100.00000</td>\n",
       "      <td>100.000000</td>\n",
       "      <td>100.000000</td>\n",
       "      <td>100.000000</td>\n",
       "      <td>100.000000</td>\n",
       "    </tr>\n",
       "    <tr>\n",
       "      <th>mean</th>\n",
       "      <td>49.500000</td>\n",
       "      <td>1.0</td>\n",
       "      <td>0.101028</td>\n",
       "      <td>227.940000</td>\n",
       "      <td>11.079282</td>\n",
       "      <td>9.035000</td>\n",
       "      <td>726.600000</td>\n",
       "      <td>4562.093750</td>\n",
       "      <td>17009.490000</td>\n",
       "      <td>35.50000</td>\n",
       "      <td>0.770000</td>\n",
       "      <td>0.130000</td>\n",
       "      <td>0.060000</td>\n",
       "      <td>0.100000</td>\n",
       "    </tr>\n",
       "    <tr>\n",
       "      <th>std</th>\n",
       "      <td>29.011492</td>\n",
       "      <td>0.0</td>\n",
       "      <td>0.023150</td>\n",
       "      <td>162.367679</td>\n",
       "      <td>0.715795</td>\n",
       "      <td>5.981154</td>\n",
       "      <td>44.854873</td>\n",
       "      <td>2630.856598</td>\n",
       "      <td>22933.459903</td>\n",
       "      <td>26.17237</td>\n",
       "      <td>1.033333</td>\n",
       "      <td>0.393251</td>\n",
       "      <td>0.238683</td>\n",
       "      <td>0.301511</td>\n",
       "    </tr>\n",
       "    <tr>\n",
       "      <th>min</th>\n",
       "      <td>0.000000</td>\n",
       "      <td>1.0</td>\n",
       "      <td>0.071400</td>\n",
       "      <td>32.550000</td>\n",
       "      <td>8.987197</td>\n",
       "      <td>0.000000</td>\n",
       "      <td>627.000000</td>\n",
       "      <td>1110.000000</td>\n",
       "      <td>0.000000</td>\n",
       "      <td>0.00000</td>\n",
       "      <td>0.000000</td>\n",
       "      <td>0.000000</td>\n",
       "      <td>0.000000</td>\n",
       "      <td>0.000000</td>\n",
       "    </tr>\n",
       "    <tr>\n",
       "      <th>25%</th>\n",
       "      <td>24.750000</td>\n",
       "      <td>1.0</td>\n",
       "      <td>0.080700</td>\n",
       "      <td>124.745000</td>\n",
       "      <td>10.596635</td>\n",
       "      <td>3.662500</td>\n",
       "      <td>682.000000</td>\n",
       "      <td>2684.968750</td>\n",
       "      <td>3141.750000</td>\n",
       "      <td>14.30000</td>\n",
       "      <td>0.000000</td>\n",
       "      <td>0.000000</td>\n",
       "      <td>0.000000</td>\n",
       "      <td>0.000000</td>\n",
       "    </tr>\n",
       "    <tr>\n",
       "      <th>50%</th>\n",
       "      <td>49.500000</td>\n",
       "      <td>1.0</td>\n",
       "      <td>0.096400</td>\n",
       "      <td>160.615000</td>\n",
       "      <td>11.156251</td>\n",
       "      <td>8.310000</td>\n",
       "      <td>722.000000</td>\n",
       "      <td>4253.979166</td>\n",
       "      <td>6678.500000</td>\n",
       "      <td>31.55000</td>\n",
       "      <td>0.000000</td>\n",
       "      <td>0.000000</td>\n",
       "      <td>0.000000</td>\n",
       "      <td>0.000000</td>\n",
       "    </tr>\n",
       "    <tr>\n",
       "      <th>75%</th>\n",
       "      <td>74.250000</td>\n",
       "      <td>1.0</td>\n",
       "      <td>0.115400</td>\n",
       "      <td>301.910000</td>\n",
       "      <td>11.512925</td>\n",
       "      <td>14.395000</td>\n",
       "      <td>763.250000</td>\n",
       "      <td>5840.000000</td>\n",
       "      <td>22254.500000</td>\n",
       "      <td>53.65000</td>\n",
       "      <td>1.000000</td>\n",
       "      <td>0.000000</td>\n",
       "      <td>0.000000</td>\n",
       "      <td>0.000000</td>\n",
       "    </tr>\n",
       "    <tr>\n",
       "      <th>max</th>\n",
       "      <td>99.000000</td>\n",
       "      <td>1.0</td>\n",
       "      <td>0.159600</td>\n",
       "      <td>829.100000</td>\n",
       "      <td>12.429216</td>\n",
       "      <td>22.090000</td>\n",
       "      <td>812.000000</td>\n",
       "      <td>14008.958330</td>\n",
       "      <td>128000.000000</td>\n",
       "      <td>93.40000</td>\n",
       "      <td>4.000000</td>\n",
       "      <td>2.000000</td>\n",
       "      <td>1.000000</td>\n",
       "      <td>1.000000</td>\n",
       "    </tr>\n",
       "  </tbody>\n",
       "</table>\n",
       "</div>"
      ],
      "text/plain": [
       "            index  credit.policy    int.rate  installment  log.annual.inc  \\\n",
       "count  100.000000          100.0  100.000000   100.000000      100.000000   \n",
       "mean    49.500000            1.0    0.101028   227.940000       11.079282   \n",
       "std     29.011492            0.0    0.023150   162.367679        0.715795   \n",
       "min      0.000000            1.0    0.071400    32.550000        8.987197   \n",
       "25%     24.750000            1.0    0.080700   124.745000       10.596635   \n",
       "50%     49.500000            1.0    0.096400   160.615000       11.156251   \n",
       "75%     74.250000            1.0    0.115400   301.910000       11.512925   \n",
       "max     99.000000            1.0    0.159600   829.100000       12.429216   \n",
       "\n",
       "              dti        fico  days.with.cr.line      revol.bal  revol.util  \\\n",
       "count  100.000000  100.000000         100.000000     100.000000   100.00000   \n",
       "mean     9.035000  726.600000        4562.093750   17009.490000    35.50000   \n",
       "std      5.981154   44.854873        2630.856598   22933.459903    26.17237   \n",
       "min      0.000000  627.000000        1110.000000       0.000000     0.00000   \n",
       "25%      3.662500  682.000000        2684.968750    3141.750000    14.30000   \n",
       "50%      8.310000  722.000000        4253.979166    6678.500000    31.55000   \n",
       "75%     14.395000  763.250000        5840.000000   22254.500000    53.65000   \n",
       "max     22.090000  812.000000       14008.958330  128000.000000    93.40000   \n",
       "\n",
       "       inq.last.6mths  delinq.2yrs     pub.rec  not.fully.paid  \n",
       "count      100.000000   100.000000  100.000000      100.000000  \n",
       "mean         0.770000     0.130000    0.060000        0.100000  \n",
       "std          1.033333     0.393251    0.238683        0.301511  \n",
       "min          0.000000     0.000000    0.000000        0.000000  \n",
       "25%          0.000000     0.000000    0.000000        0.000000  \n",
       "50%          0.000000     0.000000    0.000000        0.000000  \n",
       "75%          1.000000     0.000000    0.000000        0.000000  \n",
       "max          4.000000     2.000000    1.000000        1.000000  "
      ]
     },
     "execution_count": 5,
     "metadata": {},
     "output_type": "execute_result"
    }
   ],
   "source": [
    "data.describe()"
   ]
  },
  {
   "cell_type": "code",
   "execution_count": 6,
   "id": "d1845783-4292-43f9-ad50-3d626ca2f31b",
   "metadata": {},
   "outputs": [],
   "source": [
    "from sklearn.datasets import make_classification\n",
    "\n",
    "X, y = make_classification(\n",
    "    n_features=6,\n",
    "    n_classes=2,\n",
    "    n_samples=50,\n",
    "    n_informative=2,\n",
    "    random_state=1,\n",
    "    n_clusters_per_class=1,\n",
    ")"
   ]
  },
  {
   "cell_type": "code",
   "execution_count": 7,
   "id": "8884ffa1-7af2-4037-8e8e-749937461ab2",
   "metadata": {},
   "outputs": [
    {
     "data": {
      "image/png": "[encoded data removed]",
      "text/plain": [
       "<Figure size 640x480 with 1 Axes>"
      ]
     },
     "metadata": {},
     "output_type": "display_data"
    }
   ],
   "source": [
    "import matplotlib.pyplot as plt\n",
    "\n",
    "plt.scatter(X[:, 0], X[:, 1], c=y, marker=\"*\");"
   ]
  },
  {
   "cell_type": "code",
   "execution_count": 8,
   "id": "852fc532-f4e2-46e8-8444-f28f82578f6f",
   "metadata": {},
   "outputs": [],
   "source": [
    "from sklearn.model_selection import train_test_split\n",
    "\n",
    "X_train, X_test, y_train, y_test = train_test_split(\n",
    "    X, y, test_size=0.33, random_state=125\n",
    ")"
   ]
  },
  {
   "cell_type": "code",
   "execution_count": 9,
   "id": "206e357c-b01d-4c8e-a5a1-56805162e348",
   "metadata": {},
   "outputs": [
    {
     "name": "stdout",
     "output_type": "stream",
     "text": [
      "Actual Value: 1\n",
      "Predicted Value: 1\n"
     ]
    }
   ],
   "source": [
    "from sklearn.naive_bayes import GaussianNB\n",
    "model = GaussianNB()\n",
    "model.fit(X_train, y_train)\n",
    "\n",
    "# Predict Output\n",
    "predicted = model.predict([X_test[6]])\n",
    "\n",
    "print(\"Actual Value:\", y_test[6])\n",
    "print(\"Predicted Value:\", predicted[0])"
   ]
  },
  {
   "cell_type": "code",
   "execution_count": 11,
   "id": "9e3933e2-57e1-4738-9062-ae6695f7df2b",
   "metadata": {},
   "outputs": [
    {
     "name": "stdout",
     "output_type": "stream",
     "text": [
      "Accuracy: 0.88\n"
     ]
    }
   ],
   "source": [
    "y_pred = model.predict(X_test)\n",
    "from sklearn.metrics import accuracy_score\n",
    "\n",
    "# Calculate accuracy\n",
    "accuracy = accuracy_score(y_test, y_pred)\n",
    "print(f\"Accuracy: {accuracy:.2f}\")"
   ]
  },
  {
   "cell_type": "code",
   "execution_count": 13,
   "id": "eb77836c-dbf6-4748-aafa-c6cb4ccdaab6",
   "metadata": {},
   "outputs": [
    {
     "data": {
      "image/png": "[encoded data removed]",
      "text/plain": [
       "<Figure size 640x480 with 1 Axes>"
      ]
     },
     "metadata": {},
     "output_type": "display_data"
    }
   ],
   "source": [
    "#predict the customers who have not fully paid the loan\n",
    "import seaborn as sns\n",
    "import matplotlib.pyplot as plt\n",
    "\n",
    "sns.countplot(data=data,x='purpose',hue='not.fully.paid')\n",
    "plt.xticks(rotation=45, ha='right');"
   ]
  },
  {
   "cell_type": "code",
   "execution_count": 53,
   "id": "b84e55d2-e228-4c76-a796-befdae896ce8",
   "metadata": {},
   "outputs": [],
   "source": [
    "from sklearn.model_selection import train_test_split\n",
    "\n",
    "X = pre_df.drop('not.fully.paid', axis=1)\n",
    "y = pre_df['not.fully.paid']\n",
    "\n",
    "X_train, X_test, y_train, y_test = train_test_split(\n",
    "    X, y, test_size=0.33, random_state=125\n",
    ")"
   ]
  },
  {
   "cell_type": "code",
   "execution_count": 54,
   "id": "51003504-fad6-47b7-9d2b-d9f4222e6cd3",
   "metadata": {},
   "outputs": [],
   "source": [
    "from sklearn.naive_bayes import GaussianNB\n",
    "\n",
    "model = GaussianNB()\n",
    "\n",
    "model.fit(X_train, y_train);"
   ]
  },
  {
   "cell_type": "code",
   "execution_count": 19,
   "id": "9077c393-52ba-40ab-bef2-01b1d98f4505",
   "metadata": {},
   "outputs": [
    {
     "data": {
      "image/png": "[encoded data removed]",
      "text/plain": [
       "<Figure size 640x480 with 2 Axes>"
      ]
     },
     "metadata": {},
     "output_type": "display_data"
    }
   ],
   "source": [
    "labels = [\"Fully Paid\", \"Not fully Paid\"]\n",
    "cm = confusion_matrix(y_test, y_pred)\n",
    "disp = ConfusionMatrixDisplay(confusion_matrix=cm, display_labels=labels)\n",
    "disp.plot();"
   ]
  },
  {
   "cell_type": "code",
   "execution_count": 22,
   "id": "aac9f0ee-cfc0-4249-a254-b138cdee3cc1",
   "metadata": {},
   "outputs": [
    {
     "name": "stdout",
     "output_type": "stream",
     "text": [
      "Accuracy: 0.8484848484848485\n"
     ]
    }
   ],
   "source": [
    "# Confusion matrix values\n",
    "TP = 28  # True Positive\n",
    "FP = 5   # False Positive\n",
    "FN = 0   # False Negative\n",
    "TN = 0   # True Negative\n",
    "\n",
    "# Accuracy\n",
    "accuracy = (TP + TN) / (TP + FP + FN + TN)\n",
    "print(\"Accuracy:\", accuracy)\n"
   ]
  },
  {
   "cell_type": "code",
   "execution_count": 23,
   "id": "dc847797-4aa9-4321-ad61-8b11a36ee9b3",
   "metadata": {},
   "outputs": [
    {
     "name": "stdout",
     "output_type": "stream",
     "text": [
      "Precision: 0.8484848484848485\n"
     ]
    }
   ],
   "source": [
    "# Precision\n",
    "precision = TP / (TP + FP)\n",
    "print(\"Precision:\", precision)"
   ]
  },
  {
   "cell_type": "code",
   "execution_count": 24,
   "id": "cac267e6-478b-4d12-8b49-194d36343f0b",
   "metadata": {},
   "outputs": [
    {
     "name": "stdout",
     "output_type": "stream",
     "text": [
      "Recall: 1.0\n"
     ]
    }
   ],
   "source": [
    "recall = TP / (TP + FN)\n",
    "print(\"Recall:\", recall)"
   ]
  },
  {
   "cell_type": "code",
   "execution_count": 25,
   "id": "fc0a508d-163c-4072-b277-ab6a2009067d",
   "metadata": {},
   "outputs": [
    {
     "name": "stdout",
     "output_type": "stream",
     "text": [
      "F1 Score: 0.9180327868852458\n"
     ]
    }
   ],
   "source": [
    "f1 = 2 * (precision * recall) / (precision + recall)\n",
    "print(\"F1 Score:\", f1)"
   ]
  },
  {
   "cell_type": "code",
   "execution_count": 60,
   "id": "ceca0e89-e633-4f7a-8fe4-1a870ec89933",
   "metadata": {},
   "outputs": [],
   "source": [
    "from sklearn.tree import DecisionTreeClassifier\n",
    "from sklearn.model_selection import train_test_split\n",
    "from sklearn.metrics import confusion_matrix, ConfusionMatrixDisplay\n",
    "from sklearn.model_selection import train_test_split\n",
    "\n",
    "\n",
    "# Features (X) and target (y) - Fully Paid = 1, Not Fully Paid = 0\n",
    "X = pre_df.drop('not.fully.paid', axis=1)\n",
    "y = 1 - pre_df['not.fully.paid']\n",
    "\n",
    "X_train, X_test, y_train, y_test = train_test_split(\n",
    "    X, y, test_size=0.33, random_state=125\n",
    ")\n"
   ]
  },
  {
   "cell_type": "code",
   "execution_count": 61,
   "id": "edee2231-ccdf-4caf-9d33-edaf40f0a4fa",
   "metadata": {},
   "outputs": [],
   "source": [
    "from sklearn.naive_bayes import GaussianNB\n",
    "\n",
    "model = GaussianNB()\n",
    "\n",
    "model.fit(X_train, y_train);"
   ]
  },
  {
   "cell_type": "code",
   "execution_count": 62,
   "id": "cc13957e-14e9-4f49-9a3c-b99a69f9a48b",
   "metadata": {},
   "outputs": [
    {
     "data": {
      "text/plain": [
       "<sklearn.metrics._plot.confusion_matrix.ConfusionMatrixDisplay at 0x1d812919f10>"
      ]
     },
     "execution_count": 62,
     "metadata": {},
     "output_type": "execute_result"
    },
    {
     "data": {
      "image/png": "[encoded data removed]",
      "text/plain": [
       "<Figure size 640x480 with 2 Axes>"
      ]
     },
     "metadata": {},
     "output_type": "display_data"
    }
   ],
   "source": [
    "# Confusion Matrix with labels\n",
    "from sklearn.linear_model import LogisticRegression\n",
    "\n",
    "model = LogisticRegression(max_iter=5000)\n",
    "model.fit(X_train, y_train)\n",
    "\n",
    "# Predictions on the SAME X_test\n",
    "y_pred = model.predict(X_test)\n",
    "\n",
    "labels = [\"Fully Paid\", \"Not Fully Paid\"]\n",
    "cm = confusion_matrix(y_test, y_pred)\n",
    "disp = ConfusionMatrixDisplay(confusion_matrix=cm, display_labels=labels)\n",
    "disp.plot()"
   ]
  },
  {
   "cell_type": "code",
   "execution_count": 64,
   "id": "20bc6325-9364-413e-bbfa-63779b203606",
   "metadata": {},
   "outputs": [
    {
     "name": "stdout",
     "output_type": "stream",
     "text": [
      "Accuracy: 0.8484848484848485\n"
     ]
    }
   ],
   "source": [
    "#Confusion matrix values\n",
    "TP = 0  # True Positive\n",
    "FP = 0   # False Positive\n",
    "FN = 5   # False Negative\n",
    "TN = 28   # True Negative\n",
    "\n",
    "# Accuracy\n",
    "accuracy = (TP + TN) / (TP + FP + FN + TN)\n",
    "print(\"Accuracy:\", accuracy)\n"
   ]
  },
  {
   "cell_type": "code",
   "execution_count": 68,
   "id": "d025564e-bc29-41cd-b3a8-653536e67537",
   "metadata": {},
   "outputs": [
    {
     "name": "stdout",
     "output_type": "stream",
     "text": [
      "Recall (Fully paid): 0.0\n"
     ]
    }
   ],
   "source": [
    "recall = TP / (TP + FN)\n",
    "print(\"Recall (Fully paid):\", recall)"
   ]
  },
  {
   "cell_type": "code",
   "execution_count": 69,
   "id": "875b3784-a3be-45bf-a1db-1449239dc75c",
   "metadata": {},
   "outputs": [
    {
     "name": "stdout",
     "output_type": "stream",
     "text": [
      "F1 Score (Fully paid): 0.0\n"
     ]
    }
   ],
   "source": [
    "f1 = 2 * (precision * recall) / (precision + recall)\n",
    "print(\"F1 Score (Fully paid):\", f1)"
   ]
  },
  {
   "cell_type": "code",
   "execution_count": 71,
   "id": "676a5ed4-f853-4839-8a16-b94ba1ca60c8",
   "metadata": {},
   "outputs": [
    {
     "name": "stdout",
     "output_type": "stream",
     "text": [
      "Precision: 0.8484848484848485\n"
     ]
    }
   ],
   "source": [
    "from sklearn.metrics import precision_score\n",
    "\n",
    "precision = precision_score(y_test, y_pred, pos_label=1, zero_division=0)\n",
    "print(\"Precision:\", precision)\n"
   ]
  },
  {
   "cell_type": "code",
   "execution_count": null,
   "id": "1b7d6502-5f9e-4b6a-a74d-43246491fb73",
   "metadata": {},
   "outputs": [],
   "source": []
  }
 ],
 "metadata": {
  "kernelspec": {
   "display_name": "Python 3 (ipykernel)",
   "language": "python",
   "name": "python3"
  },
  "language_info": {
   "codemirror_mode": {
    "name": "ipython",
    "version": 3
   },
   "file_extension": ".py",
   "mimetype": "text/x-python",
   "name": "python",
   "nbconvert_exporter": "python",
   "pygments_lexer": "ipython3",
   "version": "3.13.5"
  }
 },
 "nbformat": 4,
 "nbformat_minor": 5
}
